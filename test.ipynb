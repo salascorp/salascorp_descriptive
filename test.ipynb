{
 "cells": [
  {
   "cell_type": "code",
   "execution_count": 1,
   "metadata": {},
   "outputs": [
    {
     "data": {
      "application/vnd.jupyter.widget-view+json": {
       "model_id": "5ea8ef6f74bf4b29a561667bd73d16a4",
       "version_major": 2,
       "version_minor": 0
      },
      "text/plain": [
       "interactive(children=(Dropdown(description='Variable:', options=('variable1', 'variable2', 'variable3'), value…"
      ]
     },
     "metadata": {},
     "output_type": "display_data"
    }
   ],
   "source": [
    "# main.py\n",
    "\n",
    "import numpy as np\n",
    "import pandas as pd\n",
    "from salascorp_descriptive.kolmogorov_widget import kolmogorov_widget  # Importar la función del archivo separado\n",
    "\n",
    "# Crear un dataset de prueba\n",
    "dataset = pd.DataFrame({\n",
    "    'variable1': np.random.normal(50, 10, 100),  # Distribución normal\n",
    "    'variable2': np.random.exponential(1, 100),  # Distribución exponencial\n",
    "    'variable3': np.random.uniform(0, 100, 100), # Distribución uniforme\n",
    "    'group': np.random.choice(['A', 'B'], 100)   # Grupo categórico\n",
    "})\n",
    "\n",
    "# Llamar a la función desde el archivo importado\n",
    "kolmogorov_widget(dataset)"
   ]
  }
 ],
 "metadata": {
  "kernelspec": {
   "display_name": "descriptive_venv",
   "language": "python",
   "name": "python3"
  },
  "language_info": {
   "codemirror_mode": {
    "name": "ipython",
    "version": 3
   },
   "file_extension": ".py",
   "mimetype": "text/x-python",
   "name": "python",
   "nbconvert_exporter": "python",
   "pygments_lexer": "ipython3",
   "version": "3.11.3"
  }
 },
 "nbformat": 4,
 "nbformat_minor": 2
}
